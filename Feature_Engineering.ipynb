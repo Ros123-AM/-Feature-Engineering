{
  "nbformat": 4,
  "nbformat_minor": 0,
  "metadata": {
    "colab": {
      "provenance": []
    },
    "kernelspec": {
      "name": "python3",
      "display_name": "Python 3"
    },
    "language_info": {
      "name": "python"
    }
  },
  "cells": [
    {
      "cell_type": "markdown",
      "source": [
        "# Feature Engineering"
      ],
      "metadata": {
        "id": "Xtf14f8jq3d7"
      }
    },
    {
      "cell_type": "markdown",
      "source": [
        "1. What is a parameter?"
      ],
      "metadata": {
        "id": "mE6ixCYTq5lT"
      }
    },
    {
      "cell_type": "markdown",
      "source": [
        "Ans- A parameter is a value or variable that helps define or control the behavior of a function, system, or process. The meaning of a parameter can vary depending on the context:\n",
        "- In programming, a parameter is a variable used in a function definition to accept input values (called arguments) when the function is called.\n",
        "- In mathematics, a parameter is a constant that defines a family of functions or changes the behavior of an equation without being the main variable.\n",
        "- In statistics, a parameter refers to a value that describes a characteristic of a population, such as the population mean or standard deviation.\n",
        "- In general usage, it can refer to any limit, boundary, or guideline within which something operates."
      ],
      "metadata": {
        "id": "re83-3K8tdkV"
      }
    },
    {
      "cell_type": "markdown",
      "source": [
        "2. What is correlation?\n",
        "What does negative correlation mean?"
      ],
      "metadata": {
        "id": "sZyX3emjtowz"
      }
    },
    {
      "cell_type": "markdown",
      "source": [
        "Ans- Correlation is a statistical measure that describes the strength and direction of a relationship between two variables. It helps to determine whether an increase or decrease in one variable corresponds to an increase or decrease in another.                         \n",
        "\n",
        "A negative correlation means that as one variable increases, the other variable tends to decrease.\n",
        "\n"
      ],
      "metadata": {
        "id": "8Ywee74Btvl7"
      }
    },
    {
      "cell_type": "markdown",
      "source": [
        "3. Define Machine Learning. What are the main components in Machine Learning?"
      ],
      "metadata": {
        "id": "-BHC1-0lf_lP"
      }
    },
    {
      "cell_type": "markdown",
      "source": [
        "Ans- Machine Learning (ML) is a branch of artificial intelligence (AI) that allows computers to learn from data and make decisions or predictions without being explicitly programmed. Instead of following fixed rules, ML models improve their performance as they are exposed to more data over time.\n",
        "Main Components of Machine Learning:        \n",
        "- Data: The raw information (text, numbers, images, etc.) used to train the model. Quality and quantity of data greatly affect performance.\n",
        "- Model: A mathematical or computational structure that learns patterns from data and makes predictions or decisions.   \n",
        "- Algorithm: A step-by-step method or procedure used to train the model. Examples: Linear Regression, Decision Trees, Neural Networks.\n",
        "- Evaluation: Assessing how well the model performs using test data. Common metrics include accuracy, precision, and recall."
      ],
      "metadata": {
        "id": "q7Va2iNkgDCB"
      }
    },
    {
      "cell_type": "markdown",
      "source": [
        "4. How does loss value help in determining whether the model is good or not?"
      ],
      "metadata": {
        "id": "0bCv8EZTgcd9"
      }
    },
    {
      "cell_type": "markdown",
      "source": [
        "Ans- The loss value is a numerical measure that shows how well or poorly a machine learning model is performing. It represents the difference between the model's predicted output and the actual target value.           \n",
        "\n",
        "Key Points:\n",
        "- Low Loss = Better Model\n",
        " - A smaller loss value means the model's predictions are close to the actual values, indicating good performance.\n",
        "- High Loss = Poor Model\n",
        " - A large loss value suggests the model's predictions are far from the actual results, meaning the model needs improvement.\n",
        "- Used During Training\n",
        " - During training, the model adjusts its internal parameters to minimize the loss. This process is called optimization.\n",
        "\n",
        "the loss value is a critical indicator of model quality. A lower loss usually means a better model, while a higher loss signals that the model's predictions are off and need improvement.\n"
      ],
      "metadata": {
        "id": "9N-zBmNQgf_2"
      }
    },
    {
      "cell_type": "markdown",
      "source": [
        "5. What are continuous and categorical variables?"
      ],
      "metadata": {
        "id": "FNDUoVDTg3mv"
      }
    },
    {
      "cell_type": "markdown",
      "source": [
        "Ans- Continuous Variables:\n",
        "- These are numerical variables that can take any value within a range.\n",
        "- They can be measured and often have decimal values.\n",
        "- Example: Height (170.5 cm), Weight (65.2 kg), Temperature (36.6°C), Time (2.45 seconds)                   \n",
        "\n",
        "Categorical Variables:\n",
        "- These are variables that represent categories or groups.\n",
        "- They cannot be measured numerically, only classified into distinct categories."
      ],
      "metadata": {
        "id": "okLW83Bpg7f4"
      }
    },
    {
      "cell_type": "markdown",
      "source": [
        "6. How do we handle categorical variables in Machine Learning? What are the common techniques?"
      ],
      "metadata": {
        "id": "LBjVN-JFhOKW"
      }
    },
    {
      "cell_type": "markdown",
      "source": [
        "Ans- Machine learning algorithms require numerical input, so categorical variables must be converted into numbers before they can be used to train a model.                          \n",
        "Common Techniques to Handle Categorical Variables:       \n",
        "-  Label Encoding: Assigns a unique number to each category.\n",
        "-  One-Hot Encoding: Creates a new binary column for each category (0 or 1).\n",
        "-  Ordinal Encoding: Similar to label encoding but respects the order of categories.\n",
        "- Frequency or Count Encoding: Replace categories with their frequency in the dataset."
      ],
      "metadata": {
        "id": "GOmaIn3fhSnO"
      }
    },
    {
      "cell_type": "markdown",
      "source": [
        "7. What do you mean by training and testing a dataset?"
      ],
      "metadata": {
        "id": "kAy4rBB-h8ON"
      }
    },
    {
      "cell_type": "markdown",
      "source": [
        "Ans- Training Dataset:\n",
        "- This is the portion of the data used to train the machine learning model.\n",
        "- The model learns patterns, relationships, and rules from this data.\n",
        "- It adjusts its internal parameters to reduce error based on input-output pairs.\n",
        "\n",
        "Testing Dataset:\n",
        "- This is a separate portion of the data used to evaluate the model's performance.\n",
        "- The model has not seen this data during training.\n",
        "- It helps test how well the model generalizes to new, unseen data.\n"
      ],
      "metadata": {
        "id": "6Mi5zbZCh_yV"
      }
    },
    {
      "cell_type": "markdown",
      "source": [
        "8. What is sklearn.preprocessing?"
      ],
      "metadata": {
        "id": "YrRpRfPWieVf"
      }
    },
    {
      "cell_type": "markdown",
      "source": [
        "Ans- sklearn.preprocessing is a module in Scikit-learn (a popular Python machine learning library) that provides tools for preprocessing and transforming data before feeding it into a machine learning model.  \n",
        "\n",
        "Common Functions in sklearn.preprocessing:\n",
        "- StandardScaler\n",
        " - Scales features to have zero mean and unit variance.\n",
        " - Useful for algorithms like SVM or logistic regression.\n",
        "- MinMaxScaler\n",
        " - Scales features to a given range (default is 0 to 1).\n",
        "- LabelEncoder\n",
        " - Converts categorical labels (e.g., \"male\", \"female\") into numeric form.\n",
        "- OneHotEncoder\n",
        " - Converts categorical features into a binary matrix (used for nominal data).\n",
        "- Binarizer\n",
        " - Converts numerical values to binary (0 or 1) based on a threshold.\n",
        "- PolynomialFeatures\n",
        " - Generates new features by combining existing ones with polynomial terms."
      ],
      "metadata": {
        "id": "LgAM1Rd8ihnl"
      }
    },
    {
      "cell_type": "markdown",
      "source": [
        "9. What is a Test set?"
      ],
      "metadata": {
        "id": "gbG7Tc0Ii9GW"
      }
    },
    {
      "cell_type": "markdown",
      "source": [
        "Ans- A test set is a portion of the dataset that is kept separate from the training process and used to evaluate the final performance of a machine learning model.\n",
        "- Purpose:\n",
        " - To check how well the trained model performs on unseen data.\n",
        " - Helps assess the model’s generalization ability.\n",
        "- When It Is Used:\n",
        " - After the model is trained using the training set, the test set is used to measure accuracy, precision, recall, or other performance metrics.\n",
        "- Not Used During Training:\n",
        " - The model does not learn from the test set. This ensures an unbiased evaluation.\n",
        "- Typical Split:\n",
        " - Common practice is to split the dataset into 70% training and 30% testing (or 80/20), depending on the dataset size."
      ],
      "metadata": {
        "id": "O1mmGRkAjATR"
      }
    },
    {
      "cell_type": "markdown",
      "source": [
        "10. How do we split data for model fitting (training and testing) in Python?\n",
        "How do you approach a Machine Learning problem?"
      ],
      "metadata": {
        "id": "FWihlyqYjZZT"
      }
    },
    {
      "cell_type": "markdown",
      "source": [
        "Ans- To split data into training and testing sets in Python, we use train_test_split() from the sklearn.model_selection module."
      ],
      "metadata": {
        "id": "cHWbInTXjeSq"
      }
    },
    {
      "cell_type": "code",
      "source": [
        "from sklearn.model_selection import train_test_split\n",
        "import pandas as pd # Import pandas to potentially load data\n",
        "\n",
        "# Suppose X = features, y = labels\n",
        "\n",
        "# You need to load or create your data here.\n",
        "# For demonstration, let's create some dummy data using pandas DataFrames.\n",
        "# Replace this with your actual data loading/creation code.\n",
        "data = {'feature1': [1, 2, 3, 4, 5, 6, 7, 8, 9, 10],\n",
        "        'feature2': [11, 12, 13, 14, 15, 16, 17, 18, 19, 20],\n",
        "        'label': [0, 1, 0, 1, 0, 1, 0, 1, 0, 1]}\n",
        "df = pd.DataFrame(data)\n",
        "\n",
        "# Assign features to X and labels to y\n",
        "X = df[['feature1', 'feature2']] # Features (all columns except 'label')\n",
        "y = df['label'] # Labels (the 'label' column)\n",
        "\n",
        "# Split the data into training and testing sets\n",
        "X_train, X_test, y_train, y_test = train_test_split(X, y, test_size=0.2, random_state=42)\n",
        "\n",
        "# You can now use X_train, X_test, y_train, and y_test for model training and evaluation.\n",
        "print(\"Data split successfully!\")\n",
        "print(\"Shape of X_train:\", X_train.shape)\n",
        "print(\"Shape of X_test:\", X_test.shape)\n",
        "print(\"Shape of y_train:\", y_train.shape)\n",
        "print(\"Shape of y_test:\", y_test.shape)"
      ],
      "metadata": {
        "colab": {
          "base_uri": "https://localhost:8080/"
        },
        "id": "S2uJ_sV7Z8kj",
        "outputId": "6f87c416-380b-4a83-d544-faadb1890fb9"
      },
      "execution_count": 3,
      "outputs": [
        {
          "output_type": "stream",
          "name": "stdout",
          "text": [
            "Data split successfully!\n",
            "Shape of X_train: (8, 2)\n",
            "Shape of X_test: (2, 2)\n",
            "Shape of y_train: (8,)\n",
            "Shape of y_test: (2,)\n"
          ]
        }
      ]
    },
    {
      "cell_type": "markdown",
      "source": [
        "How Do You Approach a Machine Learning Problem\n",
        "- Understand the Problem\n",
        " - Define the goal: classification, regression, clustering, etc.\n",
        " - Understand the data and business context.\n",
        "- Collect and Explore the Data\n",
        " - Load data from files, APIs, or databases.\n",
        " - Perform exploratory data analysis (EDA): view summaries, distributions, correlations.\n",
        "- Preprocess the Data\n",
        " - Handle missing values, duplicates, and outliers.\n",
        " - Encode categorical variables (e.g., with Label Encoding or One-Hot Encoding).\n",
        " - Scale or normalize numerical features (using StandardScaler, etc.).\n",
        "- Split the Data\n",
        " - Use train_test_split() to divide data into training and testing sets.\n",
        "- Choose a Model\n",
        " - Pick a suitable algorithm (e.g., Decision Tree, SVM, Linear Regression).\n",
        "- Train the Model\n",
        " - Fit the model using the training data.\n",
        "- Evaluate the Model\n",
        " - Use the test set to check accuracy, precision, recall, F1-score, etc.\n",
        "- Tune Hyperparameters (if needed)\n",
        " - Use techniques like Grid Search or Random Search for optimization.\n",
        "- Deploy the Model\n",
        " - Integrate the trained model into a real-world system or app.\n",
        "- Monitor and Maintain\n",
        " - Continuously track performance and retrain as needed."
      ],
      "metadata": {
        "id": "8-7Bvk10aYrR"
      }
    },
    {
      "cell_type": "markdown",
      "source": [
        "11. Why do we have to perform EDA before fitting a model to the data?"
      ],
      "metadata": {
        "id": "qx8yFQ4ybGBS"
      }
    },
    {
      "cell_type": "markdown",
      "source": [
        "Ans- Performing Exploratory Data Analysis (EDA) before fitting a model to data is essential for several key reasons. EDA helps you understand the data, uncover insights, and make informed decisions before modeling. Here's why it's important:\n",
        "\n",
        " Understand the Data:\n",
        "- Data types: Identify categorical, numerical, datetime, or text data.\n",
        "- Summary statistics: Learn about means, medians, standard deviations, and distributions.\n",
        "- Data structure: Check dimensions, column names, and the basic layout.  \n",
        "\n",
        "Detect and Handle Missing or Incorrect Data:\n",
        "- Models don’t handle missing or corrupt data well.\n",
        "- EDA reveals:\n",
        " - Missing values\n",
        " - Outliers or anomalies\n",
        " - Duplicates\n",
        " - Inconsistent formats\n",
        "\n",
        "Reveal Patterns and Relationships:\n",
        "- You can use visualizations (scatter plots, heatmaps, boxplots) to:\n",
        " - Spot trends\n",
        " - Identify correlations\n",
        " - Understand group distributions        \n",
        "\n",
        "Assess Feature Importance and Redundancy:\n",
        "- EDA helps detect:\n",
        " - Highly correlated features (multicollinearity)\n",
        " - Irrelevant or uninformative variables\n",
        "- You can then reduce dimensionality, simplifying the model and improving performance.                 \n",
        "\n",
        "Check Assumptions for Specific Models:\n",
        "- Linear models, for instance, assume:\n",
        " - Linearity\n",
        " - Homoscedasticity\n",
        " - Normality of residuals\n",
        " - No multicollinearity"
      ],
      "metadata": {
        "id": "fNfKq8U5bh5h"
      }
    },
    {
      "cell_type": "markdown",
      "source": [
        "12. What is correlation?\n"
      ],
      "metadata": {
        "id": "LgLRWXo9c5-d"
      }
    },
    {
      "cell_type": "markdown",
      "source": [
        "Ans- Correlation is a statistical measure that expresses the degree to which two variables move in relation to each other.\n",
        "- Positive correlation: As one variable increases, the other tends to increase.\n",
        "Example: Height and weight.\n",
        "- Negative correlation: As one variable increases, the other tends to decrease.\n",
        "Example: Speed and travel time.\n",
        "- Zero (no) correlation: No consistent relationship between the variables.\n",
        "Example: Shoe size and exam score.        \n",
        "- Correlation ≠ Causation\n",
        "Just because two variables are correlated doesn’t mean one causes the other.\n",
        "- Outliers can distort correlation values.\n",
        "- Non-linear relationships might have low correlation even if strongly related.\n",
        "\n"
      ],
      "metadata": {
        "id": "h4MuUIbkc-6T"
      }
    },
    {
      "cell_type": "markdown",
      "source": [
        "13. What does negative correlation mean?"
      ],
      "metadata": {
        "id": "ZhJvtPmYdlpL"
      }
    },
    {
      "cell_type": "markdown",
      "source": [
        "Ans- A negative correlation means that as one variable increases, the other decreases — they move in opposite directions.      \n",
        "A negative correlation coefficient ranges from 0 to -1:\n",
        " - -1: Perfect negative linear correlation (e.g., a straight downward line)\n",
        " - -0.5: Moderate negative correlation\n",
        " - 0: No linear correlation\n",
        "\n"
      ],
      "metadata": {
        "id": "BFE8ArS4dx36"
      }
    },
    {
      "cell_type": "markdown",
      "source": [
        "14. How can you find correlation between variables in Python?"
      ],
      "metadata": {
        "id": "o-CSYXYJd-MC"
      }
    },
    {
      "cell_type": "code",
      "source": [
        "import pandas as pd\n",
        "\n",
        "# Example data\n",
        "data = {\n",
        "    'Hours_Studied': [2, 4, 6, 8, 10],\n",
        "    'Test_Score': [50, 60, 70, 80, 90],\n",
        "    'Hours_Watching_TV': [10, 8, 6, 4, 2]\n",
        "}\n",
        "\n",
        "df = pd.DataFrame(data)\n"
      ],
      "metadata": {
        "id": "MhtsOubDeCyQ"
      },
      "execution_count": 4,
      "outputs": []
    },
    {
      "cell_type": "code",
      "source": [
        "correlation_matrix = df.corr()\n",
        "print(correlation_matrix)\n"
      ],
      "metadata": {
        "colab": {
          "base_uri": "https://localhost:8080/"
        },
        "id": "H7Z1ne5LeTd_",
        "outputId": "32b4695a-3d80-4146-80f9-a3d40de417ac"
      },
      "execution_count": 5,
      "outputs": [
        {
          "output_type": "stream",
          "name": "stdout",
          "text": [
            "                   Hours_Studied  Test_Score  Hours_Watching_TV\n",
            "Hours_Studied                1.0         1.0               -1.0\n",
            "Test_Score                   1.0         1.0               -1.0\n",
            "Hours_Watching_TV           -1.0        -1.0                1.0\n"
          ]
        }
      ]
    },
    {
      "cell_type": "markdown",
      "source": [
        "15. What is causation? Explain difference between correlation and causation with an example."
      ],
      "metadata": {
        "id": "vAlZa1z44CSQ"
      }
    },
    {
      "cell_type": "markdown",
      "source": [
        "Ans- Causation means that one variable directly affects or causes a change in another.\n",
        "\n",
        " Correlation:\n",
        "- Meaning: A relationship or pattern between two variables\n",
        "- Directionality: \tNo clear direction of effect\n",
        "- Example: \tIce cream sales ↑ and drowning ↑\n",
        "\n",
        " Causation:\n",
        "- Meaning: One variable directly influences the other\n",
        "- Directionality: \tThere is a clear \"cause\" and \"effect\"\n",
        "- Example: \tSmoking → Lung disease"
      ],
      "metadata": {
        "id": "1ba9rvlC4KYA"
      }
    },
    {
      "cell_type": "markdown",
      "source": [
        "16. What is an Optimizer? What are different types of optimizers? Explain each with an example."
      ],
      "metadata": {
        "id": "I2VhG4Tf41-S"
      }
    },
    {
      "cell_type": "markdown",
      "source": [
        "Ans- An optimizer is an algorithm used during the training of machine learning (especially deep learning) models to adjust the model’s parameters (weights and biases) in order to minimize the loss function.\n",
        "\n",
        "- Gradient Descent (GD):\n",
        " -  Basic idea: Update weights in the direction that minimizes loss.     \n"
      ],
      "metadata": {
        "id": "OXw2BYBZ45RI"
      }
    },
    {
      "cell_type": "code",
      "source": [
        "optimizer = torch.optim.SGD(model.parameters(), lr=0.01)\n"
      ],
      "metadata": {
        "id": "iG7OAgP06Qpr"
      },
      "execution_count": 9,
      "outputs": []
    },
    {
      "cell_type": "code",
      "source": [
        "'''\n",
        " Momentum:\n",
        "Adds memory of past gradients to accelerate learning and smooth out updates.'''\n",
        "optimizer = torch.optim.SGD(model.parameters(), lr=0.01, momentum=0.9)\n"
      ],
      "metadata": {
        "id": "PE7njHkd6lRo"
      },
      "execution_count": 11,
      "outputs": []
    },
    {
      "cell_type": "code",
      "source": [
        "'''\n",
        "   RMSprop:\n",
        "Uses adaptive learning rate for each parameter, based on recent gradients.'''\n",
        "optimizer = torch.optim.RMSprop(model.parameters(), lr=0.001)\n"
      ],
      "metadata": {
        "id": "17XW8TPJ619A"
      },
      "execution_count": 12,
      "outputs": []
    },
    {
      "cell_type": "code",
      "source": [
        "'''\n",
        "  Adam (Adaptive Moment Estimation):\n",
        "Combines Momentum + RMSprop '''\n",
        "optimizer = torch.optim.Adam(model.parameters(), lr=0.001)\n"
      ],
      "metadata": {
        "id": "FpDEmHMg7AJ7"
      },
      "execution_count": 13,
      "outputs": []
    },
    {
      "cell_type": "code",
      "source": [
        "'''\n",
        "  Adagrad\n",
        "Adapts learning rate per parameter, scaling down for frequently updated weights.'''\n",
        "optimizer = torch.optim.Adagrad(model.parameters(), lr=0.01)\n"
      ],
      "metadata": {
        "id": "nR2woLtt7MGE"
      },
      "execution_count": 14,
      "outputs": []
    },
    {
      "cell_type": "markdown",
      "source": [
        "17. What is sklearn.linear_model?"
      ],
      "metadata": {
        "id": "GNoV81237UgZ"
      }
    },
    {
      "cell_type": "markdown",
      "source": [
        "Ans- **sklearn.linear_model** is a module in the Scikit-learn library that provides various linear models for regression and classification tasks. These models assume a linear relationship between the input features and the target output.\n",
        "- It includes models like LinearRegression, LogisticRegression, Ridge, Lasso, and ElasticNet.\n",
        "- Used for both predicting continuous values (regression) and classifying categories (classification).\n",
        "- Supports regularization techniques (L1, L2) to avoid overfitting.\n",
        "- Can handle binary, multiclass, and multilabel classification tasks.\n",
        "- Widely used for interpretable and efficient modeling on structured/tabular data."
      ],
      "metadata": {
        "id": "5s3NzMSp7bAH"
      }
    },
    {
      "cell_type": "markdown",
      "source": [
        "18. What does model.fit() do? What arguments must be given?"
      ],
      "metadata": {
        "id": "3JNxKMOS7yr0"
      }
    },
    {
      "cell_type": "markdown",
      "source": [
        "Ams- The **model.fit()** method is used to train a machine learning model in Scikit-learn. It learns the relationship between the input data (features) and the target output by adjusting the model’s internal parameters.\n",
        "\n",
        " Arguments:\n",
        "- The input features (independent variables) — a 2D array or DataFrame with shape (n_samples, n_features)\n",
        "- \tThe target values (dependent variable) — a 1D array or Series with shape (n_samples,)\n"
      ],
      "metadata": {
        "id": "8dWcvooy7-QS"
      }
    },
    {
      "cell_type": "code",
      "source": [
        "from sklearn.linear_model import LinearRegression\n",
        "\n",
        "model = LinearRegression()\n",
        "model.fit(X_train, y_train)  # X = features, y = target\n"
      ],
      "metadata": {
        "colab": {
          "base_uri": "https://localhost:8080/",
          "height": 80
        },
        "id": "n5M5DS858QvA",
        "outputId": "d539abfe-e3b1-4df0-d5c6-c0558b1ce6e8"
      },
      "execution_count": 15,
      "outputs": [
        {
          "output_type": "execute_result",
          "data": {
            "text/plain": [
              "LinearRegression()"
            ],
            "text/html": [
              "<style>#sk-container-id-1 {\n",
              "  /* Definition of color scheme common for light and dark mode */\n",
              "  --sklearn-color-text: #000;\n",
              "  --sklearn-color-text-muted: #666;\n",
              "  --sklearn-color-line: gray;\n",
              "  /* Definition of color scheme for unfitted estimators */\n",
              "  --sklearn-color-unfitted-level-0: #fff5e6;\n",
              "  --sklearn-color-unfitted-level-1: #f6e4d2;\n",
              "  --sklearn-color-unfitted-level-2: #ffe0b3;\n",
              "  --sklearn-color-unfitted-level-3: chocolate;\n",
              "  /* Definition of color scheme for fitted estimators */\n",
              "  --sklearn-color-fitted-level-0: #f0f8ff;\n",
              "  --sklearn-color-fitted-level-1: #d4ebff;\n",
              "  --sklearn-color-fitted-level-2: #b3dbfd;\n",
              "  --sklearn-color-fitted-level-3: cornflowerblue;\n",
              "\n",
              "  /* Specific color for light theme */\n",
              "  --sklearn-color-text-on-default-background: var(--sg-text-color, var(--theme-code-foreground, var(--jp-content-font-color1, black)));\n",
              "  --sklearn-color-background: var(--sg-background-color, var(--theme-background, var(--jp-layout-color0, white)));\n",
              "  --sklearn-color-border-box: var(--sg-text-color, var(--theme-code-foreground, var(--jp-content-font-color1, black)));\n",
              "  --sklearn-color-icon: #696969;\n",
              "\n",
              "  @media (prefers-color-scheme: dark) {\n",
              "    /* Redefinition of color scheme for dark theme */\n",
              "    --sklearn-color-text-on-default-background: var(--sg-text-color, var(--theme-code-foreground, var(--jp-content-font-color1, white)));\n",
              "    --sklearn-color-background: var(--sg-background-color, var(--theme-background, var(--jp-layout-color0, #111)));\n",
              "    --sklearn-color-border-box: var(--sg-text-color, var(--theme-code-foreground, var(--jp-content-font-color1, white)));\n",
              "    --sklearn-color-icon: #878787;\n",
              "  }\n",
              "}\n",
              "\n",
              "#sk-container-id-1 {\n",
              "  color: var(--sklearn-color-text);\n",
              "}\n",
              "\n",
              "#sk-container-id-1 pre {\n",
              "  padding: 0;\n",
              "}\n",
              "\n",
              "#sk-container-id-1 input.sk-hidden--visually {\n",
              "  border: 0;\n",
              "  clip: rect(1px 1px 1px 1px);\n",
              "  clip: rect(1px, 1px, 1px, 1px);\n",
              "  height: 1px;\n",
              "  margin: -1px;\n",
              "  overflow: hidden;\n",
              "  padding: 0;\n",
              "  position: absolute;\n",
              "  width: 1px;\n",
              "}\n",
              "\n",
              "#sk-container-id-1 div.sk-dashed-wrapped {\n",
              "  border: 1px dashed var(--sklearn-color-line);\n",
              "  margin: 0 0.4em 0.5em 0.4em;\n",
              "  box-sizing: border-box;\n",
              "  padding-bottom: 0.4em;\n",
              "  background-color: var(--sklearn-color-background);\n",
              "}\n",
              "\n",
              "#sk-container-id-1 div.sk-container {\n",
              "  /* jupyter's `normalize.less` sets `[hidden] { display: none; }`\n",
              "     but bootstrap.min.css set `[hidden] { display: none !important; }`\n",
              "     so we also need the `!important` here to be able to override the\n",
              "     default hidden behavior on the sphinx rendered scikit-learn.org.\n",
              "     See: https://github.com/scikit-learn/scikit-learn/issues/21755 */\n",
              "  display: inline-block !important;\n",
              "  position: relative;\n",
              "}\n",
              "\n",
              "#sk-container-id-1 div.sk-text-repr-fallback {\n",
              "  display: none;\n",
              "}\n",
              "\n",
              "div.sk-parallel-item,\n",
              "div.sk-serial,\n",
              "div.sk-item {\n",
              "  /* draw centered vertical line to link estimators */\n",
              "  background-image: linear-gradient(var(--sklearn-color-text-on-default-background), var(--sklearn-color-text-on-default-background));\n",
              "  background-size: 2px 100%;\n",
              "  background-repeat: no-repeat;\n",
              "  background-position: center center;\n",
              "}\n",
              "\n",
              "/* Parallel-specific style estimator block */\n",
              "\n",
              "#sk-container-id-1 div.sk-parallel-item::after {\n",
              "  content: \"\";\n",
              "  width: 100%;\n",
              "  border-bottom: 2px solid var(--sklearn-color-text-on-default-background);\n",
              "  flex-grow: 1;\n",
              "}\n",
              "\n",
              "#sk-container-id-1 div.sk-parallel {\n",
              "  display: flex;\n",
              "  align-items: stretch;\n",
              "  justify-content: center;\n",
              "  background-color: var(--sklearn-color-background);\n",
              "  position: relative;\n",
              "}\n",
              "\n",
              "#sk-container-id-1 div.sk-parallel-item {\n",
              "  display: flex;\n",
              "  flex-direction: column;\n",
              "}\n",
              "\n",
              "#sk-container-id-1 div.sk-parallel-item:first-child::after {\n",
              "  align-self: flex-end;\n",
              "  width: 50%;\n",
              "}\n",
              "\n",
              "#sk-container-id-1 div.sk-parallel-item:last-child::after {\n",
              "  align-self: flex-start;\n",
              "  width: 50%;\n",
              "}\n",
              "\n",
              "#sk-container-id-1 div.sk-parallel-item:only-child::after {\n",
              "  width: 0;\n",
              "}\n",
              "\n",
              "/* Serial-specific style estimator block */\n",
              "\n",
              "#sk-container-id-1 div.sk-serial {\n",
              "  display: flex;\n",
              "  flex-direction: column;\n",
              "  align-items: center;\n",
              "  background-color: var(--sklearn-color-background);\n",
              "  padding-right: 1em;\n",
              "  padding-left: 1em;\n",
              "}\n",
              "\n",
              "\n",
              "/* Toggleable style: style used for estimator/Pipeline/ColumnTransformer box that is\n",
              "clickable and can be expanded/collapsed.\n",
              "- Pipeline and ColumnTransformer use this feature and define the default style\n",
              "- Estimators will overwrite some part of the style using the `sk-estimator` class\n",
              "*/\n",
              "\n",
              "/* Pipeline and ColumnTransformer style (default) */\n",
              "\n",
              "#sk-container-id-1 div.sk-toggleable {\n",
              "  /* Default theme specific background. It is overwritten whether we have a\n",
              "  specific estimator or a Pipeline/ColumnTransformer */\n",
              "  background-color: var(--sklearn-color-background);\n",
              "}\n",
              "\n",
              "/* Toggleable label */\n",
              "#sk-container-id-1 label.sk-toggleable__label {\n",
              "  cursor: pointer;\n",
              "  display: flex;\n",
              "  width: 100%;\n",
              "  margin-bottom: 0;\n",
              "  padding: 0.5em;\n",
              "  box-sizing: border-box;\n",
              "  text-align: center;\n",
              "  align-items: start;\n",
              "  justify-content: space-between;\n",
              "  gap: 0.5em;\n",
              "}\n",
              "\n",
              "#sk-container-id-1 label.sk-toggleable__label .caption {\n",
              "  font-size: 0.6rem;\n",
              "  font-weight: lighter;\n",
              "  color: var(--sklearn-color-text-muted);\n",
              "}\n",
              "\n",
              "#sk-container-id-1 label.sk-toggleable__label-arrow:before {\n",
              "  /* Arrow on the left of the label */\n",
              "  content: \"▸\";\n",
              "  float: left;\n",
              "  margin-right: 0.25em;\n",
              "  color: var(--sklearn-color-icon);\n",
              "}\n",
              "\n",
              "#sk-container-id-1 label.sk-toggleable__label-arrow:hover:before {\n",
              "  color: var(--sklearn-color-text);\n",
              "}\n",
              "\n",
              "/* Toggleable content - dropdown */\n",
              "\n",
              "#sk-container-id-1 div.sk-toggleable__content {\n",
              "  max-height: 0;\n",
              "  max-width: 0;\n",
              "  overflow: hidden;\n",
              "  text-align: left;\n",
              "  /* unfitted */\n",
              "  background-color: var(--sklearn-color-unfitted-level-0);\n",
              "}\n",
              "\n",
              "#sk-container-id-1 div.sk-toggleable__content.fitted {\n",
              "  /* fitted */\n",
              "  background-color: var(--sklearn-color-fitted-level-0);\n",
              "}\n",
              "\n",
              "#sk-container-id-1 div.sk-toggleable__content pre {\n",
              "  margin: 0.2em;\n",
              "  border-radius: 0.25em;\n",
              "  color: var(--sklearn-color-text);\n",
              "  /* unfitted */\n",
              "  background-color: var(--sklearn-color-unfitted-level-0);\n",
              "}\n",
              "\n",
              "#sk-container-id-1 div.sk-toggleable__content.fitted pre {\n",
              "  /* unfitted */\n",
              "  background-color: var(--sklearn-color-fitted-level-0);\n",
              "}\n",
              "\n",
              "#sk-container-id-1 input.sk-toggleable__control:checked~div.sk-toggleable__content {\n",
              "  /* Expand drop-down */\n",
              "  max-height: 200px;\n",
              "  max-width: 100%;\n",
              "  overflow: auto;\n",
              "}\n",
              "\n",
              "#sk-container-id-1 input.sk-toggleable__control:checked~label.sk-toggleable__label-arrow:before {\n",
              "  content: \"▾\";\n",
              "}\n",
              "\n",
              "/* Pipeline/ColumnTransformer-specific style */\n",
              "\n",
              "#sk-container-id-1 div.sk-label input.sk-toggleable__control:checked~label.sk-toggleable__label {\n",
              "  color: var(--sklearn-color-text);\n",
              "  background-color: var(--sklearn-color-unfitted-level-2);\n",
              "}\n",
              "\n",
              "#sk-container-id-1 div.sk-label.fitted input.sk-toggleable__control:checked~label.sk-toggleable__label {\n",
              "  background-color: var(--sklearn-color-fitted-level-2);\n",
              "}\n",
              "\n",
              "/* Estimator-specific style */\n",
              "\n",
              "/* Colorize estimator box */\n",
              "#sk-container-id-1 div.sk-estimator input.sk-toggleable__control:checked~label.sk-toggleable__label {\n",
              "  /* unfitted */\n",
              "  background-color: var(--sklearn-color-unfitted-level-2);\n",
              "}\n",
              "\n",
              "#sk-container-id-1 div.sk-estimator.fitted input.sk-toggleable__control:checked~label.sk-toggleable__label {\n",
              "  /* fitted */\n",
              "  background-color: var(--sklearn-color-fitted-level-2);\n",
              "}\n",
              "\n",
              "#sk-container-id-1 div.sk-label label.sk-toggleable__label,\n",
              "#sk-container-id-1 div.sk-label label {\n",
              "  /* The background is the default theme color */\n",
              "  color: var(--sklearn-color-text-on-default-background);\n",
              "}\n",
              "\n",
              "/* On hover, darken the color of the background */\n",
              "#sk-container-id-1 div.sk-label:hover label.sk-toggleable__label {\n",
              "  color: var(--sklearn-color-text);\n",
              "  background-color: var(--sklearn-color-unfitted-level-2);\n",
              "}\n",
              "\n",
              "/* Label box, darken color on hover, fitted */\n",
              "#sk-container-id-1 div.sk-label.fitted:hover label.sk-toggleable__label.fitted {\n",
              "  color: var(--sklearn-color-text);\n",
              "  background-color: var(--sklearn-color-fitted-level-2);\n",
              "}\n",
              "\n",
              "/* Estimator label */\n",
              "\n",
              "#sk-container-id-1 div.sk-label label {\n",
              "  font-family: monospace;\n",
              "  font-weight: bold;\n",
              "  display: inline-block;\n",
              "  line-height: 1.2em;\n",
              "}\n",
              "\n",
              "#sk-container-id-1 div.sk-label-container {\n",
              "  text-align: center;\n",
              "}\n",
              "\n",
              "/* Estimator-specific */\n",
              "#sk-container-id-1 div.sk-estimator {\n",
              "  font-family: monospace;\n",
              "  border: 1px dotted var(--sklearn-color-border-box);\n",
              "  border-radius: 0.25em;\n",
              "  box-sizing: border-box;\n",
              "  margin-bottom: 0.5em;\n",
              "  /* unfitted */\n",
              "  background-color: var(--sklearn-color-unfitted-level-0);\n",
              "}\n",
              "\n",
              "#sk-container-id-1 div.sk-estimator.fitted {\n",
              "  /* fitted */\n",
              "  background-color: var(--sklearn-color-fitted-level-0);\n",
              "}\n",
              "\n",
              "/* on hover */\n",
              "#sk-container-id-1 div.sk-estimator:hover {\n",
              "  /* unfitted */\n",
              "  background-color: var(--sklearn-color-unfitted-level-2);\n",
              "}\n",
              "\n",
              "#sk-container-id-1 div.sk-estimator.fitted:hover {\n",
              "  /* fitted */\n",
              "  background-color: var(--sklearn-color-fitted-level-2);\n",
              "}\n",
              "\n",
              "/* Specification for estimator info (e.g. \"i\" and \"?\") */\n",
              "\n",
              "/* Common style for \"i\" and \"?\" */\n",
              "\n",
              ".sk-estimator-doc-link,\n",
              "a:link.sk-estimator-doc-link,\n",
              "a:visited.sk-estimator-doc-link {\n",
              "  float: right;\n",
              "  font-size: smaller;\n",
              "  line-height: 1em;\n",
              "  font-family: monospace;\n",
              "  background-color: var(--sklearn-color-background);\n",
              "  border-radius: 1em;\n",
              "  height: 1em;\n",
              "  width: 1em;\n",
              "  text-decoration: none !important;\n",
              "  margin-left: 0.5em;\n",
              "  text-align: center;\n",
              "  /* unfitted */\n",
              "  border: var(--sklearn-color-unfitted-level-1) 1pt solid;\n",
              "  color: var(--sklearn-color-unfitted-level-1);\n",
              "}\n",
              "\n",
              ".sk-estimator-doc-link.fitted,\n",
              "a:link.sk-estimator-doc-link.fitted,\n",
              "a:visited.sk-estimator-doc-link.fitted {\n",
              "  /* fitted */\n",
              "  border: var(--sklearn-color-fitted-level-1) 1pt solid;\n",
              "  color: var(--sklearn-color-fitted-level-1);\n",
              "}\n",
              "\n",
              "/* On hover */\n",
              "div.sk-estimator:hover .sk-estimator-doc-link:hover,\n",
              ".sk-estimator-doc-link:hover,\n",
              "div.sk-label-container:hover .sk-estimator-doc-link:hover,\n",
              ".sk-estimator-doc-link:hover {\n",
              "  /* unfitted */\n",
              "  background-color: var(--sklearn-color-unfitted-level-3);\n",
              "  color: var(--sklearn-color-background);\n",
              "  text-decoration: none;\n",
              "}\n",
              "\n",
              "div.sk-estimator.fitted:hover .sk-estimator-doc-link.fitted:hover,\n",
              ".sk-estimator-doc-link.fitted:hover,\n",
              "div.sk-label-container:hover .sk-estimator-doc-link.fitted:hover,\n",
              ".sk-estimator-doc-link.fitted:hover {\n",
              "  /* fitted */\n",
              "  background-color: var(--sklearn-color-fitted-level-3);\n",
              "  color: var(--sklearn-color-background);\n",
              "  text-decoration: none;\n",
              "}\n",
              "\n",
              "/* Span, style for the box shown on hovering the info icon */\n",
              ".sk-estimator-doc-link span {\n",
              "  display: none;\n",
              "  z-index: 9999;\n",
              "  position: relative;\n",
              "  font-weight: normal;\n",
              "  right: .2ex;\n",
              "  padding: .5ex;\n",
              "  margin: .5ex;\n",
              "  width: min-content;\n",
              "  min-width: 20ex;\n",
              "  max-width: 50ex;\n",
              "  color: var(--sklearn-color-text);\n",
              "  box-shadow: 2pt 2pt 4pt #999;\n",
              "  /* unfitted */\n",
              "  background: var(--sklearn-color-unfitted-level-0);\n",
              "  border: .5pt solid var(--sklearn-color-unfitted-level-3);\n",
              "}\n",
              "\n",
              ".sk-estimator-doc-link.fitted span {\n",
              "  /* fitted */\n",
              "  background: var(--sklearn-color-fitted-level-0);\n",
              "  border: var(--sklearn-color-fitted-level-3);\n",
              "}\n",
              "\n",
              ".sk-estimator-doc-link:hover span {\n",
              "  display: block;\n",
              "}\n",
              "\n",
              "/* \"?\"-specific style due to the `<a>` HTML tag */\n",
              "\n",
              "#sk-container-id-1 a.estimator_doc_link {\n",
              "  float: right;\n",
              "  font-size: 1rem;\n",
              "  line-height: 1em;\n",
              "  font-family: monospace;\n",
              "  background-color: var(--sklearn-color-background);\n",
              "  border-radius: 1rem;\n",
              "  height: 1rem;\n",
              "  width: 1rem;\n",
              "  text-decoration: none;\n",
              "  /* unfitted */\n",
              "  color: var(--sklearn-color-unfitted-level-1);\n",
              "  border: var(--sklearn-color-unfitted-level-1) 1pt solid;\n",
              "}\n",
              "\n",
              "#sk-container-id-1 a.estimator_doc_link.fitted {\n",
              "  /* fitted */\n",
              "  border: var(--sklearn-color-fitted-level-1) 1pt solid;\n",
              "  color: var(--sklearn-color-fitted-level-1);\n",
              "}\n",
              "\n",
              "/* On hover */\n",
              "#sk-container-id-1 a.estimator_doc_link:hover {\n",
              "  /* unfitted */\n",
              "  background-color: var(--sklearn-color-unfitted-level-3);\n",
              "  color: var(--sklearn-color-background);\n",
              "  text-decoration: none;\n",
              "}\n",
              "\n",
              "#sk-container-id-1 a.estimator_doc_link.fitted:hover {\n",
              "  /* fitted */\n",
              "  background-color: var(--sklearn-color-fitted-level-3);\n",
              "}\n",
              "</style><div id=\"sk-container-id-1\" class=\"sk-top-container\"><div class=\"sk-text-repr-fallback\"><pre>LinearRegression()</pre><b>In a Jupyter environment, please rerun this cell to show the HTML representation or trust the notebook. <br />On GitHub, the HTML representation is unable to render, please try loading this page with nbviewer.org.</b></div><div class=\"sk-container\" hidden><div class=\"sk-item\"><div class=\"sk-estimator fitted sk-toggleable\"><input class=\"sk-toggleable__control sk-hidden--visually\" id=\"sk-estimator-id-1\" type=\"checkbox\" checked><label for=\"sk-estimator-id-1\" class=\"sk-toggleable__label fitted sk-toggleable__label-arrow\"><div><div>LinearRegression</div></div><div><a class=\"sk-estimator-doc-link fitted\" rel=\"noreferrer\" target=\"_blank\" href=\"https://scikit-learn.org/1.6/modules/generated/sklearn.linear_model.LinearRegression.html\">?<span>Documentation for LinearRegression</span></a><span class=\"sk-estimator-doc-link fitted\">i<span>Fitted</span></span></div></label><div class=\"sk-toggleable__content fitted\"><pre>LinearRegression()</pre></div> </div></div></div></div>"
            ]
          },
          "metadata": {},
          "execution_count": 15
        }
      ]
    },
    {
      "cell_type": "markdown",
      "source": [
        "19. What does model.predict() do? What arguments must be given?"
      ],
      "metadata": {
        "id": "VfTRdryM8SjY"
      }
    },
    {
      "cell_type": "markdown",
      "source": [
        "Ans- model.predict() is used to make predictions after a model has been trained using fit().\n",
        "- It takes new input data and returns the model’s predicted output based on what it has learned.\n",
        "\n",
        " Argument:\n",
        "- The input features (same format as used in fit()) — a 2D array or DataFrame of shape (n_samples, n_features)\n"
      ],
      "metadata": {
        "id": "7qx_8_C08Xcq"
      }
    },
    {
      "cell_type": "code",
      "source": [
        "from sklearn.linear_model import LinearRegression\n",
        "\n",
        "# Train the model\n",
        "model = LinearRegression()\n",
        "model.fit(X_train, y_train)\n",
        "\n",
        "# Make predictions\n",
        "predictions = model.predict(X_test)\n"
      ],
      "metadata": {
        "id": "HuiKbLSB8x9-"
      },
      "execution_count": 16,
      "outputs": []
    },
    {
      "cell_type": "markdown",
      "source": [
        "20. What are continuous and categorical variables?"
      ],
      "metadata": {
        "id": "Ttb9NBNQ80H6"
      }
    },
    {
      "cell_type": "markdown",
      "source": [
        "Ans- Continuous Variables:\n",
        "- A continuous variable is a numerical variable that can take any value within a range — including decimals and fractions.\n",
        "- Can take infinite possible values\n",
        "- Arithmetic operations (e.g., average, sum) make sense\n",
        "\n",
        "  Categorical Variables:\n",
        "- A categorical variable represents categories or groups. It contains a fixed number of distinct values (usually labels or names).\n",
        "- Values represent groups, not quantities\n",
        "- Can be nominal (no order) or ordinal (has order, like education level)"
      ],
      "metadata": {
        "id": "jRScmihc87zZ"
      }
    },
    {
      "cell_type": "markdown",
      "source": [
        "21. What is feature scaling? How does it help in Machine Learning?"
      ],
      "metadata": {
        "id": "ZzqpR3PR9Xii"
      }
    },
    {
      "cell_type": "markdown",
      "source": [
        "Ans- Feature scaling is the process of normalizing or standardizing the range of independent variables (features) in a dataset so that they are on a similar scale.       \n",
        "- Algorithms like K-Nearest Neighbors (KNN), Support Vector Machines (SVM), and Gradient Descent-based models are sensitive to feature scale.\n",
        "- Scaling ensures that no single feature dominates due to its larger value range.\n",
        "- It helps speed up training and improves model accuracy and convergence.\n",
        "- It also improves the effectiveness of regularization (e.g., in Lasso or Ridge regression).\n",
        "\n",
        "   Common Methods:\n",
        "- Standardization: Scales features to have zero mean and unit variance.\n",
        "- Min-Max Scaling: Rescales data to a [0, 1] range.\n",
        "\n",
        "\n"
      ],
      "metadata": {
        "id": "Kfab7vDQ9c57"
      }
    },
    {
      "cell_type": "code",
      "source": [
        "from sklearn.preprocessing import StandardScaler\n",
        "scaler = StandardScaler()\n",
        "X_scaled = scaler.fit_transform(X)\n"
      ],
      "metadata": {
        "id": "H3tKqIjH-exv"
      },
      "execution_count": 17,
      "outputs": []
    },
    {
      "cell_type": "markdown",
      "source": [
        "22. How do we perform scaling in Python?"
      ],
      "metadata": {
        "id": "jYpl647X-gUq"
      }
    },
    {
      "cell_type": "markdown",
      "source": [
        "Ans- In Python, feature scaling is most commonly done using Scikit-learn’s preprocessing tools.\n",
        "Common Methods of Scaling: a)Standardization\n",
        "                          , b)Min-Max Scaling\n",
        "                          , c) Robust Scaling"
      ],
      "metadata": {
        "id": "6qvUfPy1-lVJ"
      }
    },
    {
      "cell_type": "code",
      "source": [
        "\"\"\"StandardScaler\"\"\"\n",
        "from sklearn.preprocessing import StandardScaler\n",
        "import numpy as np\n",
        "\n",
        "# Sample data\n",
        "X = np.array([[1, 2000], [2, 3000], [3, 4000]])\n",
        "\n",
        "# Initialize and fit the scaler\n",
        "scaler = StandardScaler()\n",
        "X_scaled = scaler.fit_transform(X)\n",
        "\n",
        "print(X_scaled)\n"
      ],
      "metadata": {
        "colab": {
          "base_uri": "https://localhost:8080/"
        },
        "id": "LKczDEdU_N0y",
        "outputId": "caa780f9-a76d-4c01-a6ea-00229cc09cca"
      },
      "execution_count": 18,
      "outputs": [
        {
          "output_type": "stream",
          "name": "stdout",
          "text": [
            "[[-1.22474487 -1.22474487]\n",
            " [ 0.          0.        ]\n",
            " [ 1.22474487  1.22474487]]\n"
          ]
        }
      ]
    },
    {
      "cell_type": "code",
      "source": [
        "\"\"\"MinMaxScaler\"\"\"\n",
        "from sklearn.preprocessing import MinMaxScaler\n",
        "\n",
        "scaler = MinMaxScaler()\n",
        "X_scaled = scaler.fit_transform(X)\n",
        "\n",
        "print(X_scaled)\n"
      ],
      "metadata": {
        "colab": {
          "base_uri": "https://localhost:8080/"
        },
        "id": "6C3ZV1Hj_WK6",
        "outputId": "35daf081-1499-4832-aefe-ac09328012dc"
      },
      "execution_count": 19,
      "outputs": [
        {
          "output_type": "stream",
          "name": "stdout",
          "text": [
            "[[0.  0. ]\n",
            " [0.5 0.5]\n",
            " [1.  1. ]]\n"
          ]
        }
      ]
    },
    {
      "cell_type": "code",
      "source": [
        "\"\"\"RobustScaler \"\"\"\n",
        "from sklearn.preprocessing import RobustScaler\n",
        "\n",
        "scaler = RobustScaler()\n",
        "X_scaled = scaler.fit_transform(X)\n",
        "\n",
        "print(X_scaled)\n"
      ],
      "metadata": {
        "colab": {
          "base_uri": "https://localhost:8080/"
        },
        "id": "OlvStc8y_Z7p",
        "outputId": "0f0e44d3-d4b0-4df0-8088-da06f198eb7b"
      },
      "execution_count": 20,
      "outputs": [
        {
          "output_type": "stream",
          "name": "stdout",
          "text": [
            "[[-1. -1.]\n",
            " [ 0.  0.]\n",
            " [ 1.  1.]]\n"
          ]
        }
      ]
    },
    {
      "cell_type": "markdown",
      "source": [
        "23. What is sklearn.preprocessing?"
      ],
      "metadata": {
        "id": "-bfIDQUz_e_i"
      }
    },
    {
      "cell_type": "markdown",
      "source": [
        "Ans- sklearn.preprocessing is a module in Scikit-learn that provides tools for preprocessing and transforming data before feeding it into machine learning models.        \n",
        "- Scaling features (e.g., StandardScaler, MinMaxScaler)\n",
        "- Encoding categorical variables (e.g., OneHotEncoder, LabelEncoder)\n",
        "- Handling missing values (some transformers)\n",
        "- Generating polynomial features\n",
        "- Normalizing data (making data vectors unit length)"
      ],
      "metadata": {
        "id": "2gGvRdkB_i9K"
      }
    },
    {
      "cell_type": "code",
      "source": [
        "from sklearn.preprocessing import StandardScaler\n",
        "\n",
        "scaler = StandardScaler()\n",
        "X_scaled = scaler.fit_transform(X)\n"
      ],
      "metadata": {
        "id": "9kQBXsPX_5ZR"
      },
      "execution_count": 21,
      "outputs": []
    },
    {
      "cell_type": "markdown",
      "source": [
        "24. How do we split data for model fitting (training and testing) in Python?"
      ],
      "metadata": {
        "id": "2VGLjMpn_6ei"
      }
    },
    {
      "cell_type": "markdown",
      "source": [
        "Ans- To evaluate how well your model will perform on unseen data, you split your dataset into:\n",
        "- Training set: Used to train (fit) the model\n",
        "-\n",
        "Testing set: Used to test and evaluate model performance"
      ],
      "metadata": {
        "id": "AUg0vusXAEpB"
      }
    },
    {
      "cell_type": "code",
      "source": [
        "from sklearn.model_selection import train_test_split\n",
        "import pandas as pd # Ensure pandas is imported\n",
        "import numpy as np # Import numpy for creating sample data\n",
        "\n",
        "# Suppose X = features, y = target\n",
        "\n",
        "# You need to load or create your data here.\n",
        "# For demonstration, let's create some dummy data using pandas DataFrames.\n",
        "# Replace this with your actual data loading/creation code.\n",
        "data = {'feature1': [1, 2, 3, 4, 5, 6, 7, 8, 9, 10],\n",
        "        'feature2': [11, 12, 13, 14, 15, 16, 17, 18, 19, 20],\n",
        "        'label': [0, 1, 0, 1, 0, 1, 0, 1, 0, 1]}\n",
        "df = pd.DataFrame(data)\n",
        "\n",
        "# Assign features to X and labels to y from the DataFrame\n",
        "X = df[['feature1', 'feature2']] # Features (all columns except 'label')\n",
        "y = df['label'] # Labels (the 'label' column)\n",
        "\n",
        "# Split the data into training and testing sets\n",
        "X_train, X_test, y_train, y_test = train_test_split(\n",
        "    X, y,\n",
        "    test_size=0.2,        # 20% data for testing\n",
        "    random_state=42       # for reproducibility\n",
        ")\n",
        "\n",
        "# You can now use X_train, X_test, y_train, and y_test for model training and evaluation.\n",
        "print(\"Data split successfully!\")\n",
        "print(\"Shape of X_train:\", X_train.shape)\n",
        "print(\"Shape of X_test:\", X_test.shape)\n",
        "print(\"Shape of y_train:\", y_train.shape)\n",
        "print(\"Shape of y_test:\", y_test.shape)"
      ],
      "metadata": {
        "colab": {
          "base_uri": "https://localhost:8080/"
        },
        "id": "fBhDRVnUATOH",
        "outputId": "6d45ae54-fb93-417d-c3e6-03a57447ddf2"
      },
      "execution_count": 24,
      "outputs": [
        {
          "output_type": "stream",
          "name": "stdout",
          "text": [
            "Data split successfully!\n",
            "Shape of X_train: (8, 2)\n",
            "Shape of X_test: (2, 2)\n",
            "Shape of y_train: (8,)\n",
            "Shape of y_test: (2,)\n"
          ]
        }
      ]
    },
    {
      "cell_type": "markdown",
      "source": [
        "25. Explain data encoding?"
      ],
      "metadata": {
        "id": "BNmDDuMBAjgJ"
      }
    },
    {
      "cell_type": "markdown",
      "source": [
        "Ans- Data encoding is the process of converting categorical data into numerical format so that machine learning models, which typically require numbers, can process the data.\n",
        "- Most ML algorithms cannot work directly with text or categories.\n",
        "- Models require numbers as input features.\n",
        "- Encoding converts categories like \"Red\", \"Blue\", \"Green\" into numeric values.\n",
        "\n"
      ],
      "metadata": {
        "id": "Hh7YhMJEApXS"
      }
    },
    {
      "cell_type": "code",
      "source": [
        "from sklearn.preprocessing import LabelEncoder, OneHotEncoder\n",
        "import pandas as pd\n",
        "\n",
        "# Sample categorical data\n",
        "colors = ['Red', 'Blue', 'Green', 'Blue']\n",
        "\n",
        "# Label Encoding\n",
        "le = LabelEncoder()\n",
        "labels = le.fit_transform(colors)\n",
        "print(labels)  # Output: [2 0 1 0]\n",
        "\n",
        "# One-Hot Encoding using pandas\n",
        "df = pd.DataFrame({'Color': colors})\n",
        "one_hot = pd.get_dummies(df['Color'])\n",
        "print(one_hot)\n"
      ],
      "metadata": {
        "colab": {
          "base_uri": "https://localhost:8080/"
        },
        "id": "wqIwA2oCAzS9",
        "outputId": "4d97f814-61a0-47c5-ca08-00c0cf6fc1a7"
      },
      "execution_count": 25,
      "outputs": [
        {
          "output_type": "stream",
          "name": "stdout",
          "text": [
            "[2 0 1 0]\n",
            "    Blue  Green    Red\n",
            "0  False  False   True\n",
            "1   True  False  False\n",
            "2  False   True  False\n",
            "3   True  False  False\n"
          ]
        }
      ]
    }
  ]
}